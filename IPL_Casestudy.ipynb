{
 "cells": [
  {
   "cell_type": "code",
   "execution_count": 59,
   "id": "d0bf6089",
   "metadata": {
    "collapsed": true
   },
   "outputs": [
    {
     "name": "stderr",
     "output_type": "stream",
     "text": [
      "chromium is already installed.\n"
     ]
    }
   ],
   "source": [
    "!pyppeteer-install"
   ]
  },
  {
   "cell_type": "markdown",
   "id": "10b75294",
   "metadata": {},
   "source": [
    "## Importing Basic Libraries for Visualisation "
   ]
  },
  {
   "cell_type": "code",
   "execution_count": 1,
   "id": "69a570f2",
   "metadata": {},
   "outputs": [],
   "source": [
    "import numpy as np\n",
    "import pandas as pd\n",
    "import matplotlib.pyplot as plt\n",
    "%matplotlib inline\n",
    "import seaborn as sns\n",
    "import warnings\n",
    "warnings.filterwarnings(\"ignore\")"
   ]
  },
  {
   "cell_type": "markdown",
   "id": "e965514a",
   "metadata": {},
   "source": [
    "## Importing the file"
   ]
  },
  {
   "cell_type": "code",
   "execution_count": 2,
   "id": "5a55dc6d",
   "metadata": {},
   "outputs": [],
   "source": [
    "df=pd.read_csv(\"ipl data.csv\")"
   ]
  },
  {
   "cell_type": "markdown",
   "id": "854e694a",
   "metadata": {},
   "source": [
    "#### Reading the records from the file"
   ]
  },
  {
   "cell_type": "code",
   "execution_count": 3,
   "id": "15ab4c5c",
   "metadata": {},
   "outputs": [
    {
     "data": {
      "text/html": [
       "<div>\n",
       "<style scoped>\n",
       "    .dataframe tbody tr th:only-of-type {\n",
       "        vertical-align: middle;\n",
       "    }\n",
       "\n",
       "    .dataframe tbody tr th {\n",
       "        vertical-align: top;\n",
       "    }\n",
       "\n",
       "    .dataframe thead th {\n",
       "        text-align: right;\n",
       "    }\n",
       "</style>\n",
       "<table border=\"1\" class=\"dataframe\">\n",
       "  <thead>\n",
       "    <tr style=\"text-align: right;\">\n",
       "      <th></th>\n",
       "      <th>id</th>\n",
       "      <th>season</th>\n",
       "      <th>city</th>\n",
       "      <th>date</th>\n",
       "      <th>team1</th>\n",
       "      <th>team2</th>\n",
       "      <th>toss_winner</th>\n",
       "      <th>toss_decision</th>\n",
       "      <th>result</th>\n",
       "      <th>dl_applied</th>\n",
       "      <th>winner</th>\n",
       "      <th>win_by_runs</th>\n",
       "      <th>win_by_wickets</th>\n",
       "      <th>player_of_match</th>\n",
       "      <th>venue</th>\n",
       "      <th>umpire1</th>\n",
       "      <th>umpire2</th>\n",
       "      <th>umpire3</th>\n",
       "    </tr>\n",
       "  </thead>\n",
       "  <tbody>\n",
       "    <tr>\n",
       "      <th>0</th>\n",
       "      <td>1</td>\n",
       "      <td>2017</td>\n",
       "      <td>Hyderabad</td>\n",
       "      <td>2017-04-05</td>\n",
       "      <td>Sunrisers Hyderabad</td>\n",
       "      <td>Royal Challengers Bangalore</td>\n",
       "      <td>Royal Challengers Bangalore</td>\n",
       "      <td>field</td>\n",
       "      <td>normal</td>\n",
       "      <td>0</td>\n",
       "      <td>Sunrisers Hyderabad</td>\n",
       "      <td>35</td>\n",
       "      <td>0</td>\n",
       "      <td>Yuvraj Singh</td>\n",
       "      <td>Rajiv Gandhi International Stadium, Uppal</td>\n",
       "      <td>AY Dandekar</td>\n",
       "      <td>NJ Llong</td>\n",
       "      <td>NaN</td>\n",
       "    </tr>\n",
       "    <tr>\n",
       "      <th>1</th>\n",
       "      <td>2</td>\n",
       "      <td>2017</td>\n",
       "      <td>Pune</td>\n",
       "      <td>2017-04-06</td>\n",
       "      <td>Mumbai Indians</td>\n",
       "      <td>Rising Pune Supergiant</td>\n",
       "      <td>Rising Pune Supergiant</td>\n",
       "      <td>field</td>\n",
       "      <td>normal</td>\n",
       "      <td>0</td>\n",
       "      <td>Rising Pune Supergiant</td>\n",
       "      <td>0</td>\n",
       "      <td>7</td>\n",
       "      <td>SPD Smith</td>\n",
       "      <td>Maharashtra Cricket Association Stadium</td>\n",
       "      <td>A Nand Kishore</td>\n",
       "      <td>S Ravi</td>\n",
       "      <td>NaN</td>\n",
       "    </tr>\n",
       "    <tr>\n",
       "      <th>2</th>\n",
       "      <td>3</td>\n",
       "      <td>2017</td>\n",
       "      <td>Rajkot</td>\n",
       "      <td>2017-04-07</td>\n",
       "      <td>Gujarat Lions</td>\n",
       "      <td>Kolkata Knight Riders</td>\n",
       "      <td>Kolkata Knight Riders</td>\n",
       "      <td>field</td>\n",
       "      <td>normal</td>\n",
       "      <td>0</td>\n",
       "      <td>Kolkata Knight Riders</td>\n",
       "      <td>0</td>\n",
       "      <td>10</td>\n",
       "      <td>CA Lynn</td>\n",
       "      <td>Saurashtra Cricket Association Stadium</td>\n",
       "      <td>Nitin Menon</td>\n",
       "      <td>CK Nandan</td>\n",
       "      <td>NaN</td>\n",
       "    </tr>\n",
       "    <tr>\n",
       "      <th>3</th>\n",
       "      <td>4</td>\n",
       "      <td>2017</td>\n",
       "      <td>Indore</td>\n",
       "      <td>2017-04-08</td>\n",
       "      <td>Rising Pune Supergiant</td>\n",
       "      <td>Kings XI Punjab</td>\n",
       "      <td>Kings XI Punjab</td>\n",
       "      <td>field</td>\n",
       "      <td>normal</td>\n",
       "      <td>0</td>\n",
       "      <td>Kings XI Punjab</td>\n",
       "      <td>0</td>\n",
       "      <td>6</td>\n",
       "      <td>GJ Maxwell</td>\n",
       "      <td>Holkar Cricket Stadium</td>\n",
       "      <td>AK Chaudhary</td>\n",
       "      <td>C Shamshuddin</td>\n",
       "      <td>NaN</td>\n",
       "    </tr>\n",
       "    <tr>\n",
       "      <th>4</th>\n",
       "      <td>5</td>\n",
       "      <td>2017</td>\n",
       "      <td>Bangalore</td>\n",
       "      <td>2017-04-08</td>\n",
       "      <td>Royal Challengers Bangalore</td>\n",
       "      <td>Delhi Daredevils</td>\n",
       "      <td>Royal Challengers Bangalore</td>\n",
       "      <td>bat</td>\n",
       "      <td>normal</td>\n",
       "      <td>0</td>\n",
       "      <td>Royal Challengers Bangalore</td>\n",
       "      <td>15</td>\n",
       "      <td>0</td>\n",
       "      <td>KM Jadhav</td>\n",
       "      <td>M Chinnaswamy Stadium</td>\n",
       "      <td>NaN</td>\n",
       "      <td>NaN</td>\n",
       "      <td>NaN</td>\n",
       "    </tr>\n",
       "  </tbody>\n",
       "</table>\n",
       "</div>"
      ],
      "text/plain": [
       "   id  season       city        date                        team1  \\\n",
       "0   1    2017  Hyderabad  2017-04-05          Sunrisers Hyderabad   \n",
       "1   2    2017       Pune  2017-04-06               Mumbai Indians   \n",
       "2   3    2017     Rajkot  2017-04-07                Gujarat Lions   \n",
       "3   4    2017     Indore  2017-04-08       Rising Pune Supergiant   \n",
       "4   5    2017  Bangalore  2017-04-08  Royal Challengers Bangalore   \n",
       "\n",
       "                         team2                  toss_winner toss_decision  \\\n",
       "0  Royal Challengers Bangalore  Royal Challengers Bangalore         field   \n",
       "1       Rising Pune Supergiant       Rising Pune Supergiant         field   \n",
       "2        Kolkata Knight Riders        Kolkata Knight Riders         field   \n",
       "3              Kings XI Punjab              Kings XI Punjab         field   \n",
       "4             Delhi Daredevils  Royal Challengers Bangalore           bat   \n",
       "\n",
       "   result  dl_applied                       winner  win_by_runs  \\\n",
       "0  normal           0          Sunrisers Hyderabad           35   \n",
       "1  normal           0       Rising Pune Supergiant            0   \n",
       "2  normal           0        Kolkata Knight Riders            0   \n",
       "3  normal           0              Kings XI Punjab            0   \n",
       "4  normal           0  Royal Challengers Bangalore           15   \n",
       "\n",
       "   win_by_wickets player_of_match                                      venue  \\\n",
       "0               0    Yuvraj Singh  Rajiv Gandhi International Stadium, Uppal   \n",
       "1               7       SPD Smith    Maharashtra Cricket Association Stadium   \n",
       "2              10         CA Lynn     Saurashtra Cricket Association Stadium   \n",
       "3               6      GJ Maxwell                     Holkar Cricket Stadium   \n",
       "4               0       KM Jadhav                      M Chinnaswamy Stadium   \n",
       "\n",
       "          umpire1        umpire2  umpire3  \n",
       "0     AY Dandekar       NJ Llong      NaN  \n",
       "1  A Nand Kishore         S Ravi      NaN  \n",
       "2     Nitin Menon      CK Nandan      NaN  \n",
       "3    AK Chaudhary  C Shamshuddin      NaN  \n",
       "4             NaN            NaN      NaN  "
      ]
     },
     "execution_count": 3,
     "metadata": {},
     "output_type": "execute_result"
    }
   ],
   "source": [
    "df.head()"
   ]
  },
  {
   "cell_type": "markdown",
   "id": "552400c3",
   "metadata": {},
   "source": [
    "#### Information on the file"
   ]
  },
  {
   "cell_type": "code",
   "execution_count": 4,
   "id": "41f43ef5",
   "metadata": {},
   "outputs": [
    {
     "name": "stdout",
     "output_type": "stream",
     "text": [
      "<class 'pandas.core.frame.DataFrame'>\n",
      "RangeIndex: 636 entries, 0 to 635\n",
      "Data columns (total 18 columns):\n",
      " #   Column           Non-Null Count  Dtype  \n",
      "---  ------           --------------  -----  \n",
      " 0   id               636 non-null    int64  \n",
      " 1   season           636 non-null    int64  \n",
      " 2   city             629 non-null    object \n",
      " 3   date             636 non-null    object \n",
      " 4   team1            636 non-null    object \n",
      " 5   team2            636 non-null    object \n",
      " 6   toss_winner      636 non-null    object \n",
      " 7   toss_decision    636 non-null    object \n",
      " 8   result           636 non-null    object \n",
      " 9   dl_applied       636 non-null    int64  \n",
      " 10  winner           633 non-null    object \n",
      " 11  win_by_runs      636 non-null    int64  \n",
      " 12  win_by_wickets   636 non-null    int64  \n",
      " 13  player_of_match  633 non-null    object \n",
      " 14  venue            636 non-null    object \n",
      " 15  umpire1          635 non-null    object \n",
      " 16  umpire2          635 non-null    object \n",
      " 17  umpire3          0 non-null      float64\n",
      "dtypes: float64(1), int64(5), object(12)\n",
      "memory usage: 89.6+ KB\n"
     ]
    }
   ],
   "source": [
    "df.info()"
   ]
  },
  {
   "cell_type": "markdown",
   "id": "04455cee",
   "metadata": {},
   "source": [
    "#### Null Values in the dataset"
   ]
  },
  {
   "cell_type": "code",
   "execution_count": 5,
   "id": "6b3fb449",
   "metadata": {},
   "outputs": [
    {
     "data": {
      "text/plain": [
       "id                   0\n",
       "season               0\n",
       "city                 7\n",
       "date                 0\n",
       "team1                0\n",
       "team2                0\n",
       "toss_winner          0\n",
       "toss_decision        0\n",
       "result               0\n",
       "dl_applied           0\n",
       "winner               3\n",
       "win_by_runs          0\n",
       "win_by_wickets       0\n",
       "player_of_match      3\n",
       "venue                0\n",
       "umpire1              1\n",
       "umpire2              1\n",
       "umpire3            636\n",
       "dtype: int64"
      ]
     },
     "execution_count": 5,
     "metadata": {},
     "output_type": "execute_result"
    }
   ],
   "source": [
    "df.isnull().sum()"
   ]
  },
  {
   "cell_type": "markdown",
   "id": "3a2cda25",
   "metadata": {},
   "source": [
    "### Dropping the column with major Null Values"
   ]
  },
  {
   "cell_type": "code",
   "execution_count": 6,
   "id": "e3b4603d",
   "metadata": {},
   "outputs": [],
   "source": [
    "df.drop(columns=\"umpire3\",inplace=True)"
   ]
  },
  {
   "cell_type": "code",
   "execution_count": 7,
   "id": "e13ab96e",
   "metadata": {},
   "outputs": [
    {
     "data": {
      "text/plain": [
       "id                 0\n",
       "season             0\n",
       "city               7\n",
       "date               0\n",
       "team1              0\n",
       "team2              0\n",
       "toss_winner        0\n",
       "toss_decision      0\n",
       "result             0\n",
       "dl_applied         0\n",
       "winner             3\n",
       "win_by_runs        0\n",
       "win_by_wickets     0\n",
       "player_of_match    3\n",
       "venue              0\n",
       "umpire1            1\n",
       "umpire2            1\n",
       "dtype: int64"
      ]
     },
     "execution_count": 7,
     "metadata": {},
     "output_type": "execute_result"
    }
   ],
   "source": [
    "df.isnull().sum()"
   ]
  },
  {
   "cell_type": "markdown",
   "id": "61087a08",
   "metadata": {},
   "source": [
    "### Deleting the rows with Null values"
   ]
  },
  {
   "cell_type": "code",
   "execution_count": 8,
   "id": "00e7e72a",
   "metadata": {},
   "outputs": [],
   "source": [
    "df.dropna(inplace=True)"
   ]
  },
  {
   "cell_type": "code",
   "execution_count": 9,
   "id": "46fccb85",
   "metadata": {},
   "outputs": [
    {
     "data": {
      "text/plain": [
       "id                 0\n",
       "season             0\n",
       "city               0\n",
       "date               0\n",
       "team1              0\n",
       "team2              0\n",
       "toss_winner        0\n",
       "toss_decision      0\n",
       "result             0\n",
       "dl_applied         0\n",
       "winner             0\n",
       "win_by_runs        0\n",
       "win_by_wickets     0\n",
       "player_of_match    0\n",
       "venue              0\n",
       "umpire1            0\n",
       "umpire2            0\n",
       "dtype: int64"
      ]
     },
     "execution_count": 9,
     "metadata": {},
     "output_type": "execute_result"
    }
   ],
   "source": [
    "df.isnull().sum()"
   ]
  },
  {
   "cell_type": "markdown",
   "id": "e6013a54",
   "metadata": {},
   "source": [
    "#### So, We're good to go with all the Non-Null values left in the dataset!!!\n",
    "\n",
    "*Let's get started with the visualisation of data*"
   ]
  },
  {
   "cell_type": "markdown",
   "id": "8b1cdcec",
   "metadata": {},
   "source": [
    "## Data Analysis & Visualisation"
   ]
  },
  {
   "cell_type": "markdown",
   "id": "2caea4ce",
   "metadata": {},
   "source": [
    "### **Q1. which city hosted most number of matches?**"
   ]
  },
  {
   "cell_type": "code",
   "execution_count": 10,
   "id": "b470d0fa",
   "metadata": {},
   "outputs": [
    {
     "data": {
      "image/png": "[encoded data removed]",
      "text/plain": [
       "<Figure size 720x432 with 1 Axes>"
      ]
     },
     "metadata": {
      "needs_background": "light"
     },
     "output_type": "display_data"
    }
   ],
   "source": [
    "plt.figure(figsize=(10,6))\n",
    "df[\"city\"].value_counts().plot(kind=\"bar\")\n",
    "plt.title(\"Bar plot - Matches hosted by City\")\n",
    "plt.xlabel(\"City\")\n",
    "plt.ylabel(\"No. of Matches hosted\")\n",
    "plt.ylim(0,90)\n",
    "plt.xticks(rotation=90)\n",
    "plt.show()"
   ]
  },
  {
   "cell_type": "markdown",
   "id": "8adf472b",
   "metadata": {},
   "source": [
    "### **Q2. All venue of mumbai city?**"
   ]
  },
  {
   "cell_type": "code",
   "execution_count": 61,
   "id": "a1dab542",
   "metadata": {},
   "outputs": [
    {
     "data": {
      "text/plain": [
       "array(['Wankhede Stadium', 'Dr DY Patil Sports Academy',\n",
       "       'Brabourne Stadium'], dtype=object)"
      ]
     },
     "execution_count": 61,
     "metadata": {},
     "output_type": "execute_result"
    }
   ],
   "source": [
    "df[\"venue\"].loc[df[\"city\"]==\"Mumbai\"].unique()"
   ]
  },
  {
   "cell_type": "markdown",
   "id": "bddfe287",
   "metadata": {},
   "source": [
    "### **Q3. Venue of mumbai most number of matches played at**\n",
    "\n",
    "- (draw bar plot and write down your insights)"
   ]
  },
  {
   "cell_type": "code",
   "execution_count": 12,
   "id": "3ce08c4e",
   "metadata": {},
   "outputs": [
    {
     "data": {
      "text/plain": [
       "Wankhede Stadium              57\n",
       "Dr DY Patil Sports Academy    17\n",
       "Brabourne Stadium             11\n",
       "Name: venue, dtype: int64"
      ]
     },
     "execution_count": 12,
     "metadata": {},
     "output_type": "execute_result"
    }
   ],
   "source": [
    "df[\"venue\"].loc[df[\"city\"]==\"Mumbai\"].value_counts()"
   ]
  },
  {
   "cell_type": "code",
   "execution_count": 13,
   "id": "45baa37c",
   "metadata": {},
   "outputs": [
    {
     "data": {
      "image/png": "[encoded data removed]",
      "text/plain": [
       "<Figure size 720x360 with 1 Axes>"
      ]
     },
     "metadata": {
      "needs_background": "light"
     },
     "output_type": "display_data"
    }
   ],
   "source": [
    "plt.figure(figsize=(10,5))\n",
    "df[\"venue\"].loc[df[\"city\"]==\"Mumbai\"].value_counts().plot(kind=\"bar\")\n",
    "plt.xticks(rotation=0)\n",
    "plt.show()"
   ]
  },
  {
   "cell_type": "markdown",
   "id": "4b6919a6",
   "metadata": {},
   "source": [
    "### Insights for CITY and VENUE with most matches:\n",
    "\n",
    "- So according to the bar plot above we can tell that, **Mumbai City** has hosted the most matches with the fact that it has altogether 3 venues,*\"Wankhede Stadium\"* being the most frequent match holding venue with *57* matches, then *\"Dr DY Patil Sports Academy\"* & at last *\"Brabourne Stadium\".*"
   ]
  },
  {
   "cell_type": "markdown",
   "id": "ea96e4fa",
   "metadata": {},
   "source": [
    "### 4. Preferred choice after winning a toss in mumbai"
   ]
  },
  {
   "cell_type": "code",
   "execution_count": 14,
   "id": "9d0716b5",
   "metadata": {},
   "outputs": [
    {
     "data": {
      "text/plain": [
       "field    51\n",
       "bat      34\n",
       "Name: toss_decision, dtype: int64"
      ]
     },
     "execution_count": 14,
     "metadata": {},
     "output_type": "execute_result"
    }
   ],
   "source": [
    "df[\"toss_decision\"].loc[df[\"city\"]==\"Mumbai\"].value_counts()"
   ]
  },
  {
   "cell_type": "code",
   "execution_count": 15,
   "id": "8618f877",
   "metadata": {},
   "outputs": [
    {
     "data": {
      "image/png": "[encoded data removed]",
      "text/plain": [
       "<Figure size 360x360 with 1 Axes>"
      ]
     },
     "metadata": {
      "needs_background": "light"
     },
     "output_type": "display_data"
    }
   ],
   "source": [
    "plt.figure(figsize=(5,5))\n",
    "plt.title(\"Preference on Toss-Win in Mumbai\")\n",
    "df[\"toss_decision\"].loc[df[\"city\"]==\"Mumbai\"].value_counts().plot(kind=\"bar\")\n",
    "plt.xticks(rotation=0)\n",
    "plt.show()"
   ]
  },
  {
   "cell_type": "markdown",
   "id": "0447faa2",
   "metadata": {},
   "source": [
    "### Insights for CITY and Toss:"
   ]
  },
  {
   "cell_type": "code",
   "execution_count": 16,
   "id": "e86ed83b",
   "metadata": {},
   "outputs": [
    {
     "data": {
      "image/png": "[encoded data removed]",
      "text/plain": [
       "<Figure size 360x360 with 1 Axes>"
      ]
     },
     "metadata": {},
     "output_type": "display_data"
    }
   ],
   "source": [
    "plt.figure(figsize=(5,5))\n",
    "plt.title(\"Preference on Toss-Win in Mumbai\")\n",
    "df[\"toss_decision\"].loc[df[\"city\"]==\"Mumbai\"].value_counts().plot.pie(autopct=\"%1.2f%%\")\n",
    "plt.show()"
   ]
  },
  {
   "cell_type": "markdown",
   "id": "4c90b0c6",
   "metadata": {},
   "source": [
    "- For **60%** of the times matches played at venues in mumbai, teams chose to **FIELD** first."
   ]
  },
  {
   "cell_type": "markdown",
   "id": "ff7615b2",
   "metadata": {},
   "source": [
    "### 5. Team that won most number of toss"
   ]
  },
  {
   "cell_type": "code",
   "execution_count": 17,
   "id": "9aad383c",
   "metadata": {},
   "outputs": [
    {
     "data": {
      "text/plain": [
       "Mumbai Indians                 83\n",
       "Kolkata Knight Riders          77\n",
       "Delhi Daredevils               71\n",
       "Royal Challengers Bangalore    67\n",
       "Kings XI Punjab                67\n",
       "Chennai Super Kings            66\n",
       "Rajasthan Royals               61\n",
       "Deccan Chargers                43\n",
       "Sunrisers Hyderabad            34\n",
       "Pune Warriors                  20\n",
       "Gujarat Lions                  15\n",
       "Kochi Tuskers Kerala            8\n",
       "Rising Pune Supergiants         7\n",
       "Rising Pune Supergiant          6\n",
       "Name: toss_winner, dtype: int64"
      ]
     },
     "execution_count": 17,
     "metadata": {},
     "output_type": "execute_result"
    }
   ],
   "source": [
    "df[\"toss_winner\"].value_counts()"
   ]
  },
  {
   "cell_type": "markdown",
   "id": "6260d7a8",
   "metadata": {},
   "source": [
    "#### Let's visualise above data With a Bar Plot"
   ]
  },
  {
   "cell_type": "code",
   "execution_count": 18,
   "id": "8bbabfc0",
   "metadata": {},
   "outputs": [
    {
     "data": {
      "image/png": "[encoded data removed]",
      "text/plain": [
       "<Figure size 720x432 with 1 Axes>"
      ]
     },
     "metadata": {
      "needs_background": "light"
     },
     "output_type": "display_data"
    }
   ],
   "source": [
    "plt.figure(figsize=(10,6))\n",
    "df[\"toss_winner\"].value_counts().plot(kind=\"bar\")\n",
    "plt.xticks(rotation=90)\n",
    "plt.show()"
   ]
  },
  {
   "cell_type": "markdown",
   "id": "d9161189",
   "metadata": {},
   "source": [
    "### Insights for Team and Toss:\n",
    "\n",
    "- As we can see Team **\"Mumbai Indians\"** is the most frequent toss winning team."
   ]
  },
  {
   "cell_type": "code",
   "execution_count": 19,
   "id": "de3ae7f8",
   "metadata": {},
   "outputs": [
    {
     "data": {
      "text/html": [
       "<div>\n",
       "<style scoped>\n",
       "    .dataframe tbody tr th:only-of-type {\n",
       "        vertical-align: middle;\n",
       "    }\n",
       "\n",
       "    .dataframe tbody tr th {\n",
       "        vertical-align: top;\n",
       "    }\n",
       "\n",
       "    .dataframe thead th {\n",
       "        text-align: right;\n",
       "    }\n",
       "</style>\n",
       "<table border=\"1\" class=\"dataframe\">\n",
       "  <thead>\n",
       "    <tr style=\"text-align: right;\">\n",
       "      <th></th>\n",
       "      <th>id</th>\n",
       "      <th>season</th>\n",
       "      <th>city</th>\n",
       "      <th>date</th>\n",
       "      <th>team1</th>\n",
       "      <th>team2</th>\n",
       "      <th>toss_winner</th>\n",
       "      <th>toss_decision</th>\n",
       "      <th>result</th>\n",
       "      <th>dl_applied</th>\n",
       "      <th>winner</th>\n",
       "      <th>win_by_runs</th>\n",
       "      <th>win_by_wickets</th>\n",
       "      <th>player_of_match</th>\n",
       "      <th>venue</th>\n",
       "      <th>umpire1</th>\n",
       "      <th>umpire2</th>\n",
       "    </tr>\n",
       "  </thead>\n",
       "  <tbody>\n",
       "    <tr>\n",
       "      <th>0</th>\n",
       "      <td>1</td>\n",
       "      <td>2017</td>\n",
       "      <td>Hyderabad</td>\n",
       "      <td>2017-04-05</td>\n",
       "      <td>Sunrisers Hyderabad</td>\n",
       "      <td>Royal Challengers Bangalore</td>\n",
       "      <td>Royal Challengers Bangalore</td>\n",
       "      <td>field</td>\n",
       "      <td>normal</td>\n",
       "      <td>0</td>\n",
       "      <td>Sunrisers Hyderabad</td>\n",
       "      <td>35</td>\n",
       "      <td>0</td>\n",
       "      <td>Yuvraj Singh</td>\n",
       "      <td>Rajiv Gandhi International Stadium, Uppal</td>\n",
       "      <td>AY Dandekar</td>\n",
       "      <td>NJ Llong</td>\n",
       "    </tr>\n",
       "    <tr>\n",
       "      <th>1</th>\n",
       "      <td>2</td>\n",
       "      <td>2017</td>\n",
       "      <td>Pune</td>\n",
       "      <td>2017-04-06</td>\n",
       "      <td>Mumbai Indians</td>\n",
       "      <td>Rising Pune Supergiant</td>\n",
       "      <td>Rising Pune Supergiant</td>\n",
       "      <td>field</td>\n",
       "      <td>normal</td>\n",
       "      <td>0</td>\n",
       "      <td>Rising Pune Supergiant</td>\n",
       "      <td>0</td>\n",
       "      <td>7</td>\n",
       "      <td>SPD Smith</td>\n",
       "      <td>Maharashtra Cricket Association Stadium</td>\n",
       "      <td>A Nand Kishore</td>\n",
       "      <td>S Ravi</td>\n",
       "    </tr>\n",
       "    <tr>\n",
       "      <th>2</th>\n",
       "      <td>3</td>\n",
       "      <td>2017</td>\n",
       "      <td>Rajkot</td>\n",
       "      <td>2017-04-07</td>\n",
       "      <td>Gujarat Lions</td>\n",
       "      <td>Kolkata Knight Riders</td>\n",
       "      <td>Kolkata Knight Riders</td>\n",
       "      <td>field</td>\n",
       "      <td>normal</td>\n",
       "      <td>0</td>\n",
       "      <td>Kolkata Knight Riders</td>\n",
       "      <td>0</td>\n",
       "      <td>10</td>\n",
       "      <td>CA Lynn</td>\n",
       "      <td>Saurashtra Cricket Association Stadium</td>\n",
       "      <td>Nitin Menon</td>\n",
       "      <td>CK Nandan</td>\n",
       "    </tr>\n",
       "  </tbody>\n",
       "</table>\n",
       "</div>"
      ],
      "text/plain": [
       "   id  season       city        date                team1  \\\n",
       "0   1    2017  Hyderabad  2017-04-05  Sunrisers Hyderabad   \n",
       "1   2    2017       Pune  2017-04-06       Mumbai Indians   \n",
       "2   3    2017     Rajkot  2017-04-07        Gujarat Lions   \n",
       "\n",
       "                         team2                  toss_winner toss_decision  \\\n",
       "0  Royal Challengers Bangalore  Royal Challengers Bangalore         field   \n",
       "1       Rising Pune Supergiant       Rising Pune Supergiant         field   \n",
       "2        Kolkata Knight Riders        Kolkata Knight Riders         field   \n",
       "\n",
       "   result  dl_applied                  winner  win_by_runs  win_by_wickets  \\\n",
       "0  normal           0     Sunrisers Hyderabad           35               0   \n",
       "1  normal           0  Rising Pune Supergiant            0               7   \n",
       "2  normal           0   Kolkata Knight Riders            0              10   \n",
       "\n",
       "  player_of_match                                      venue         umpire1  \\\n",
       "0    Yuvraj Singh  Rajiv Gandhi International Stadium, Uppal     AY Dandekar   \n",
       "1       SPD Smith    Maharashtra Cricket Association Stadium  A Nand Kishore   \n",
       "2         CA Lynn     Saurashtra Cricket Association Stadium     Nitin Menon   \n",
       "\n",
       "     umpire2  \n",
       "0   NJ Llong  \n",
       "1     S Ravi  \n",
       "2  CK Nandan  "
      ]
     },
     "execution_count": 19,
     "metadata": {},
     "output_type": "execute_result"
    }
   ],
   "source": [
    "df.head(3)"
   ]
  },
  {
   "cell_type": "markdown",
   "id": "14115742",
   "metadata": {},
   "source": [
    "### Count of decision of teams after winning Toss"
   ]
  },
  {
   "cell_type": "code",
   "execution_count": 20,
   "id": "cf21e385",
   "metadata": {},
   "outputs": [],
   "source": [
    "teams=df[\"toss_winner\"].unique()\n",
    "toss_data=pd.DataFrame([],columns=[\"Team\",\"Decision\",\"Count\"])\n",
    "for t in teams:\n",
    "    bat_mask=df[(df[\"toss_winner\"]==t)&(df[\"toss_decision\"]==\"bat\")]\n",
    "    field_mask=df[(df[\"toss_winner\"]==t)&(df[\"toss_decision\"]==\"field\")]\n",
    "    toss_data=toss_data.append({\"Team\":t,\"Decision\":\"Bat\",\"Count\":bat_mask[\"toss_winner\"].count()},ignore_index=True)\n",
    "    toss_data=toss_data.append({\"Team\":t,\"Decision\":\"Field\",\"Count\":field_mask[\"toss_winner\"].count()},ignore_index=True)"
   ]
  },
  {
   "cell_type": "code",
   "execution_count": 21,
   "id": "ea512284",
   "metadata": {},
   "outputs": [
    {
     "data": {
      "text/html": [
       "<div>\n",
       "<style scoped>\n",
       "    .dataframe tbody tr th:only-of-type {\n",
       "        vertical-align: middle;\n",
       "    }\n",
       "\n",
       "    .dataframe tbody tr th {\n",
       "        vertical-align: top;\n",
       "    }\n",
       "\n",
       "    .dataframe thead th {\n",
       "        text-align: right;\n",
       "    }\n",
       "</style>\n",
       "<table border=\"1\" class=\"dataframe\">\n",
       "  <thead>\n",
       "    <tr style=\"text-align: right;\">\n",
       "      <th></th>\n",
       "      <th>Team</th>\n",
       "      <th>Decision</th>\n",
       "      <th>Count</th>\n",
       "    </tr>\n",
       "  </thead>\n",
       "  <tbody>\n",
       "    <tr>\n",
       "      <th>0</th>\n",
       "      <td>Royal Challengers Bangalore</td>\n",
       "      <td>Bat</td>\n",
       "      <td>19</td>\n",
       "    </tr>\n",
       "    <tr>\n",
       "      <th>1</th>\n",
       "      <td>Royal Challengers Bangalore</td>\n",
       "      <td>Field</td>\n",
       "      <td>48</td>\n",
       "    </tr>\n",
       "    <tr>\n",
       "      <th>2</th>\n",
       "      <td>Rising Pune Supergiant</td>\n",
       "      <td>Bat</td>\n",
       "      <td>0</td>\n",
       "    </tr>\n",
       "    <tr>\n",
       "      <th>3</th>\n",
       "      <td>Rising Pune Supergiant</td>\n",
       "      <td>Field</td>\n",
       "      <td>6</td>\n",
       "    </tr>\n",
       "    <tr>\n",
       "      <th>4</th>\n",
       "      <td>Kolkata Knight Riders</td>\n",
       "      <td>Bat</td>\n",
       "      <td>29</td>\n",
       "    </tr>\n",
       "    <tr>\n",
       "      <th>5</th>\n",
       "      <td>Kolkata Knight Riders</td>\n",
       "      <td>Field</td>\n",
       "      <td>48</td>\n",
       "    </tr>\n",
       "    <tr>\n",
       "      <th>6</th>\n",
       "      <td>Kings XI Punjab</td>\n",
       "      <td>Bat</td>\n",
       "      <td>25</td>\n",
       "    </tr>\n",
       "    <tr>\n",
       "      <th>7</th>\n",
       "      <td>Kings XI Punjab</td>\n",
       "      <td>Field</td>\n",
       "      <td>42</td>\n",
       "    </tr>\n",
       "    <tr>\n",
       "      <th>8</th>\n",
       "      <td>Sunrisers Hyderabad</td>\n",
       "      <td>Bat</td>\n",
       "      <td>17</td>\n",
       "    </tr>\n",
       "    <tr>\n",
       "      <th>9</th>\n",
       "      <td>Sunrisers Hyderabad</td>\n",
       "      <td>Field</td>\n",
       "      <td>17</td>\n",
       "    </tr>\n",
       "    <tr>\n",
       "      <th>10</th>\n",
       "      <td>Mumbai Indians</td>\n",
       "      <td>Bat</td>\n",
       "      <td>39</td>\n",
       "    </tr>\n",
       "    <tr>\n",
       "      <th>11</th>\n",
       "      <td>Mumbai Indians</td>\n",
       "      <td>Field</td>\n",
       "      <td>44</td>\n",
       "    </tr>\n",
       "    <tr>\n",
       "      <th>12</th>\n",
       "      <td>Gujarat Lions</td>\n",
       "      <td>Bat</td>\n",
       "      <td>1</td>\n",
       "    </tr>\n",
       "    <tr>\n",
       "      <th>13</th>\n",
       "      <td>Gujarat Lions</td>\n",
       "      <td>Field</td>\n",
       "      <td>14</td>\n",
       "    </tr>\n",
       "    <tr>\n",
       "      <th>14</th>\n",
       "      <td>Delhi Daredevils</td>\n",
       "      <td>Bat</td>\n",
       "      <td>25</td>\n",
       "    </tr>\n",
       "    <tr>\n",
       "      <th>15</th>\n",
       "      <td>Delhi Daredevils</td>\n",
       "      <td>Field</td>\n",
       "      <td>46</td>\n",
       "    </tr>\n",
       "    <tr>\n",
       "      <th>16</th>\n",
       "      <td>Chennai Super Kings</td>\n",
       "      <td>Bat</td>\n",
       "      <td>44</td>\n",
       "    </tr>\n",
       "    <tr>\n",
       "      <th>17</th>\n",
       "      <td>Chennai Super Kings</td>\n",
       "      <td>Field</td>\n",
       "      <td>22</td>\n",
       "    </tr>\n",
       "    <tr>\n",
       "      <th>18</th>\n",
       "      <td>Rajasthan Royals</td>\n",
       "      <td>Bat</td>\n",
       "      <td>28</td>\n",
       "    </tr>\n",
       "    <tr>\n",
       "      <th>19</th>\n",
       "      <td>Rajasthan Royals</td>\n",
       "      <td>Field</td>\n",
       "      <td>33</td>\n",
       "    </tr>\n",
       "    <tr>\n",
       "      <th>20</th>\n",
       "      <td>Deccan Chargers</td>\n",
       "      <td>Bat</td>\n",
       "      <td>24</td>\n",
       "    </tr>\n",
       "    <tr>\n",
       "      <th>21</th>\n",
       "      <td>Deccan Chargers</td>\n",
       "      <td>Field</td>\n",
       "      <td>19</td>\n",
       "    </tr>\n",
       "    <tr>\n",
       "      <th>22</th>\n",
       "      <td>Kochi Tuskers Kerala</td>\n",
       "      <td>Bat</td>\n",
       "      <td>3</td>\n",
       "    </tr>\n",
       "    <tr>\n",
       "      <th>23</th>\n",
       "      <td>Kochi Tuskers Kerala</td>\n",
       "      <td>Field</td>\n",
       "      <td>5</td>\n",
       "    </tr>\n",
       "    <tr>\n",
       "      <th>24</th>\n",
       "      <td>Pune Warriors</td>\n",
       "      <td>Bat</td>\n",
       "      <td>11</td>\n",
       "    </tr>\n",
       "    <tr>\n",
       "      <th>25</th>\n",
       "      <td>Pune Warriors</td>\n",
       "      <td>Field</td>\n",
       "      <td>9</td>\n",
       "    </tr>\n",
       "    <tr>\n",
       "      <th>26</th>\n",
       "      <td>Rising Pune Supergiants</td>\n",
       "      <td>Bat</td>\n",
       "      <td>3</td>\n",
       "    </tr>\n",
       "    <tr>\n",
       "      <th>27</th>\n",
       "      <td>Rising Pune Supergiants</td>\n",
       "      <td>Field</td>\n",
       "      <td>4</td>\n",
       "    </tr>\n",
       "  </tbody>\n",
       "</table>\n",
       "</div>"
      ],
      "text/plain": [
       "                           Team Decision Count\n",
       "0   Royal Challengers Bangalore      Bat    19\n",
       "1   Royal Challengers Bangalore    Field    48\n",
       "2        Rising Pune Supergiant      Bat     0\n",
       "3        Rising Pune Supergiant    Field     6\n",
       "4         Kolkata Knight Riders      Bat    29\n",
       "5         Kolkata Knight Riders    Field    48\n",
       "6               Kings XI Punjab      Bat    25\n",
       "7               Kings XI Punjab    Field    42\n",
       "8           Sunrisers Hyderabad      Bat    17\n",
       "9           Sunrisers Hyderabad    Field    17\n",
       "10               Mumbai Indians      Bat    39\n",
       "11               Mumbai Indians    Field    44\n",
       "12                Gujarat Lions      Bat     1\n",
       "13                Gujarat Lions    Field    14\n",
       "14             Delhi Daredevils      Bat    25\n",
       "15             Delhi Daredevils    Field    46\n",
       "16          Chennai Super Kings      Bat    44\n",
       "17          Chennai Super Kings    Field    22\n",
       "18             Rajasthan Royals      Bat    28\n",
       "19             Rajasthan Royals    Field    33\n",
       "20              Deccan Chargers      Bat    24\n",
       "21              Deccan Chargers    Field    19\n",
       "22         Kochi Tuskers Kerala      Bat     3\n",
       "23         Kochi Tuskers Kerala    Field     5\n",
       "24                Pune Warriors      Bat    11\n",
       "25                Pune Warriors    Field     9\n",
       "26      Rising Pune Supergiants      Bat     3\n",
       "27      Rising Pune Supergiants    Field     4"
      ]
     },
     "execution_count": 21,
     "metadata": {},
     "output_type": "execute_result"
    }
   ],
   "source": [
    "toss_data"
   ]
  },
  {
   "cell_type": "markdown",
   "id": "0d093340",
   "metadata": {},
   "source": [
    "### 6. Mumbai Indians preferance after winning a toss."
   ]
  },
  {
   "cell_type": "code",
   "execution_count": 22,
   "id": "75d7c7ba",
   "metadata": {},
   "outputs": [
    {
     "data": {
      "text/plain": [
       "field    44\n",
       "bat      39\n",
       "Name: toss_decision, dtype: int64"
      ]
     },
     "execution_count": 22,
     "metadata": {},
     "output_type": "execute_result"
    }
   ],
   "source": [
    "df[\"toss_decision\"].loc[df[\"toss_winner\"]==\"Mumbai Indians\"].value_counts()"
   ]
  },
  {
   "cell_type": "code",
   "execution_count": 23,
   "id": "0e4b9e9f",
   "metadata": {},
   "outputs": [
    {
     "data": {
      "image/png": "[encoded data removed]",
      "text/plain": [
       "<Figure size 360x360 with 1 Axes>"
      ]
     },
     "metadata": {},
     "output_type": "display_data"
    }
   ],
   "source": [
    "plt.figure(figsize=(5,5))\n",
    "plt.title(\"Preference on Toss-Win of Mumbai Indians\")\n",
    "df[\"toss_decision\"].loc[df[\"toss_winner\"]==\"Mumbai Indians\"].value_counts().plot.pie(autopct=\"%1.2f%%\")\n",
    "plt.show()"
   ]
  },
  {
   "cell_type": "markdown",
   "id": "b20f26d4",
   "metadata": {},
   "source": [
    "#### Insights :\n",
    "- \"Mumbai Indians\" tend to \"Field first\" when they win the toss. "
   ]
  },
  {
   "cell_type": "markdown",
   "id": "a8017b69",
   "metadata": {},
   "source": [
    "### 7. Head-to-head winning count of Mumbai Indians vs Chennai Super Kings"
   ]
  },
  {
   "cell_type": "code",
   "execution_count": 24,
   "id": "a4ce374a",
   "metadata": {},
   "outputs": [
    {
     "data": {
      "text/plain": [
       "12"
      ]
     },
     "execution_count": 24,
     "metadata": {},
     "output_type": "execute_result"
    }
   ],
   "source": [
    "len(df[df[\"winner\"]==\"Mumbai Indians\"].loc[(df[\"team1\"]==\"Mumbai Indians\") & (df[\"team2\"]==\"Chennai Super Kings\")]) + len(df[df[\"winner\"]==\"Mumbai Indians\"].loc[(df[\"team2\"]==\"Mumbai Indians\") & (df[\"team1\"]==\"Chennai Super Kings\")])"
   ]
  },
  {
   "cell_type": "code",
   "execution_count": 25,
   "id": "1b0c24bd",
   "metadata": {},
   "outputs": [
    {
     "data": {
      "text/plain": [
       "Mumbai Indians         12\n",
       "Chennai Super Kings     9\n",
       "Name: winner, dtype: int64"
      ]
     },
     "execution_count": 25,
     "metadata": {},
     "output_type": "execute_result"
    }
   ],
   "source": [
    "mivscsk=df[\"winner\"].loc[((df[\"team1\"]==\"Chennai Super Kings\")&(df[\"team2\"]==\"Mumbai Indians\")) | ((df[\"team2\"]==\"Chennai Super Kings\")&(df[\"team1\"]==\"Mumbai Indians\"))].value_counts()\n",
    "mivscsk"
   ]
  },
  {
   "cell_type": "code",
   "execution_count": 26,
   "id": "1027f34f",
   "metadata": {},
   "outputs": [
    {
     "data": {
      "image/png": "[encoded data removed]",
      "text/plain": [
       "<Figure size 432x432 with 1 Axes>"
      ]
     },
     "metadata": {},
     "output_type": "display_data"
    }
   ],
   "source": [
    "plt.figure(figsize=(6,6))\n",
    "mivscsk.plot.pie(autopct=\"%1.2f%%\")\n",
    "plt.title(\"Mumbai Indians Vs. Chennai Super Kings\")\n",
    "plt.show()"
   ]
  },
  {
   "cell_type": "markdown",
   "id": "9ab15a4e",
   "metadata": {},
   "source": [
    "#### Insight :\n",
    "\n",
    "- This data tells us that between the rivalry matches of **\"Mumbai Indians\" vs. \"Chennai Super Kings\"** team **\"Mumbai Indians\"** have won more times."
   ]
  },
  {
   "cell_type": "markdown",
   "id": "8a2a85de",
   "metadata": {},
   "source": [
    "### 8. Which team won most of the matches in mumbai?"
   ]
  },
  {
   "cell_type": "code",
   "execution_count": 27,
   "id": "60b70841",
   "metadata": {},
   "outputs": [],
   "source": [
    "mum=df[\"winner\"].loc[df[\"city\"]==\"Mumbai\"].value_counts()"
   ]
  },
  {
   "cell_type": "code",
   "execution_count": 28,
   "id": "0d0cf8b9",
   "metadata": {},
   "outputs": [
    {
     "data": {
      "image/png": "[encoded data removed]",
      "text/plain": [
       "<Figure size 864x576 with 1 Axes>"
      ]
     },
     "metadata": {
      "needs_background": "light"
     },
     "output_type": "display_data"
    }
   ],
   "source": [
    "plt.figure(figsize=(12,8))\n",
    "mum.plot(kind=\"bar\")\n",
    "plt.title(\"Matches won by teams in Mumbai\")\n",
    "plt.xlabel(\"Teams\")\n",
    "plt.ylabel(\"No. of matches won\")\n",
    "plt.ylim(0,50)\n",
    "plt.show()"
   ]
  },
  {
   "cell_type": "markdown",
   "id": "9cd0b503",
   "metadata": {},
   "source": [
    "#### Insights"
   ]
  },
  {
   "cell_type": "markdown",
   "id": "7a168e21",
   "metadata": {},
   "source": [
    "**Mumbai Indians** team has won the most matches in Mumbai City, as it is their home ground and they're familiar with the playing conditions. "
   ]
  },
  {
   "cell_type": "markdown",
   "id": "60d16532",
   "metadata": {},
   "source": [
    "### 9. Team won the toss and won the match"
   ]
  },
  {
   "cell_type": "code",
   "execution_count": 29,
   "id": "5d875c9d",
   "metadata": {},
   "outputs": [],
   "source": [
    "toss=df[\"winner\"].loc[df[\"winner\"]==df[\"toss_winner\"]].value_counts()"
   ]
  },
  {
   "cell_type": "code",
   "execution_count": 30,
   "id": "5e28b1fc",
   "metadata": {},
   "outputs": [
    {
     "data": {
      "image/png": "[encoded data removed]",
      "text/plain": [
       "<Figure size 720x432 with 1 Axes>"
      ]
     },
     "metadata": {
      "needs_background": "light"
     },
     "output_type": "display_data"
    }
   ],
   "source": [
    "plt.figure(figsize=(10,6))\n",
    "toss.plot(kind=\"bar\")\n",
    "plt.title(\"Matches Won by teams with Toss\")\n",
    "plt.xlabel(\"Teams\")\n",
    "plt.ylabel(\"No. of matches won\")\n",
    "plt.show()"
   ]
  },
  {
   "cell_type": "markdown",
   "id": "13286762",
   "metadata": {},
   "source": [
    "#### Insight :\n",
    "\n",
    "- This barplot helps us to extract the insight from this data that team **\"Mumbai Indians\"** have won the most matches when they won the toss."
   ]
  },
  {
   "cell_type": "markdown",
   "id": "bc284332",
   "metadata": {},
   "source": [
    "### 10. Teams won the toss and won the match in mumbai. "
   ]
  },
  {
   "cell_type": "code",
   "execution_count": 31,
   "id": "73cde56e",
   "metadata": {},
   "outputs": [],
   "source": [
    "tossmum=df[\"winner\"].loc[(df[\"winner\"]==df[\"toss_winner\"]) & (df[\"city\"]==\"Mumbai\")].value_counts()"
   ]
  },
  {
   "cell_type": "code",
   "execution_count": 32,
   "id": "1a7bd935",
   "metadata": {},
   "outputs": [
    {
     "data": {
      "image/png": "[encoded data removed]",
      "text/plain": [
       "<Figure size 720x432 with 1 Axes>"
      ]
     },
     "metadata": {
      "needs_background": "light"
     },
     "output_type": "display_data"
    }
   ],
   "source": [
    "plt.figure(figsize=(10,6))\n",
    "tossmum.plot(kind=\"bar\")\n",
    "plt.title(\"Matches Won by teams with Toss in Mumbai\")\n",
    "plt.xlabel(\"Teams\")\n",
    "plt.ylabel(\"No. of matches won\")\n",
    "plt.show()"
   ]
  },
  {
   "cell_type": "markdown",
   "id": "03bc9417",
   "metadata": {},
   "source": [
    "#### Insight :\n",
    "\n",
    "- This barplot helps us to extract the insight from this data that **\"Mumbai Indians\"** have won the most matches in **Mumbai City** when they won the toss."
   ]
  },
  {
   "cell_type": "markdown",
   "id": "3557502c",
   "metadata": {},
   "source": [
    "### 11. Venue hosted most number of matches"
   ]
  },
  {
   "cell_type": "code",
   "execution_count": 33,
   "id": "7d4cf76c",
   "metadata": {},
   "outputs": [],
   "source": [
    "ven=df[\"venue\"].value_counts()"
   ]
  },
  {
   "cell_type": "code",
   "execution_count": 34,
   "id": "230c0f78",
   "metadata": {},
   "outputs": [
    {
     "data": {
      "image/png": "[encoded data removed]",
      "text/plain": [
       "<Figure size 1080x576 with 1 Axes>"
      ]
     },
     "metadata": {
      "needs_background": "light"
     },
     "output_type": "display_data"
    }
   ],
   "source": [
    "plt.figure(figsize=(15,8))\n",
    "sns.countplot(data=df,x=\"venue\")\n",
    "plt.title(\"Matches hosted at Venues\")\n",
    "plt.xlabel(\"Stadiums\")\n",
    "plt.ylabel(\"No. of matches hosted\")\n",
    "plt.xticks(rotation=90)\n",
    "plt.show()"
   ]
  },
  {
   "cell_type": "markdown",
   "id": "37838f04",
   "metadata": {},
   "source": [
    "#### Insight :\n",
    "\n",
    "- This Countplot helps us to extract the insight from this data that **\"M Chinnaswamy Stadium\"** Hosted most of the matches over the past 10 years. "
   ]
  },
  {
   "cell_type": "markdown",
   "id": "28876d85",
   "metadata": {},
   "source": [
    "### 12. Matches chennai super kings played at M Chinnaswamy stadium"
   ]
  },
  {
   "cell_type": "code",
   "execution_count": 35,
   "id": "3970d350",
   "metadata": {},
   "outputs": [
    {
     "data": {
      "text/plain": [
       "7"
      ]
     },
     "execution_count": 35,
     "metadata": {},
     "output_type": "execute_result"
    }
   ],
   "source": [
    "df[\"venue\"].loc[((df[\"team1\"]==\"Chennai Super Kings\")|(df[\"team2\"]==\"Chennai Super Kings\"))&(df[\"venue\"]==\"M Chinnaswamy Stadium\")].count()"
   ]
  },
  {
   "cell_type": "markdown",
   "id": "b4a86297",
   "metadata": {},
   "source": [
    "### 13. Team that won most matches at M Chinnaswamy stadium?"
   ]
  },
  {
   "cell_type": "code",
   "execution_count": 36,
   "id": "11a6aad9",
   "metadata": {},
   "outputs": [
    {
     "data": {
      "text/plain": [
       "Royal Challengers Bangalore    29\n",
       "Mumbai Indians                  8\n",
       "Kolkata Knight Riders           6\n",
       "Kings XI Punjab                 5\n",
       "Chennai Super Kings             4\n",
       "Rajasthan Royals                3\n",
       "Delhi Daredevils                3\n",
       "Sunrisers Hyderabad             2\n",
       "Rising Pune Supergiant          1\n",
       "Gujarat Lions                   1\n",
       "Deccan Chargers                 1\n",
       "Name: winner, dtype: int64"
      ]
     },
     "execution_count": 36,
     "metadata": {},
     "output_type": "execute_result"
    }
   ],
   "source": [
    "MCSwin=df[\"winner\"].loc[(df[\"venue\"]==\"M Chinnaswamy Stadium\")].value_counts()\n",
    "MCSwin"
   ]
  },
  {
   "cell_type": "code",
   "execution_count": 37,
   "id": "c7646989",
   "metadata": {},
   "outputs": [
    {
     "data": {
      "image/png": "[encoded data removed]",
      "text/plain": [
       "<Figure size 720x432 with 1 Axes>"
      ]
     },
     "metadata": {
      "needs_background": "light"
     },
     "output_type": "display_data"
    }
   ],
   "source": [
    "plt.figure(figsize=(10,6))\n",
    "MCSwin.plot(kind=\"bar\")\n",
    "plt.title(\"Matches Won by team at M Chinnaswamy Stadium\")\n",
    "plt.xlabel(\"Teams\")\n",
    "plt.ylabel(\"No. of matches won\")\n",
    "plt.show()"
   ]
  },
  {
   "cell_type": "markdown",
   "id": "c7555d1c",
   "metadata": {},
   "source": [
    "#### Insight :\n",
    "\n",
    "- This barplot helps us understand that **\"Royal Challangers Banglore\"** have won most matches at **\"M Chinnaswamy Stadium\"**, it is being their home ground in banglore. "
   ]
  },
  {
   "cell_type": "markdown",
   "id": "bb6842cd",
   "metadata": {},
   "source": [
    "# Milestone Wise Analysis"
   ]
  },
  {
   "cell_type": "markdown",
   "id": "96dc77cd",
   "metadata": {},
   "source": [
    "### Top \"Player of the match\" Award winner players"
   ]
  },
  {
   "cell_type": "code",
   "execution_count": 38,
   "id": "4962ae45",
   "metadata": {},
   "outputs": [
    {
     "data": {
      "text/plain": [
       "'CH Gayle'"
      ]
     },
     "execution_count": 38,
     "metadata": {},
     "output_type": "execute_result"
    }
   ],
   "source": [
    "df[\"player_of_match\"].value_counts().idxmax()"
   ]
  },
  {
   "cell_type": "code",
   "execution_count": 39,
   "id": "0b0e9459",
   "metadata": {},
   "outputs": [
    {
     "data": {
      "image/png": "[encoded data removed]",
      "text/plain": [
       "<Figure size 720x432 with 1 Axes>"
      ]
     },
     "metadata": {
      "needs_background": "light"
     },
     "output_type": "display_data"
    }
   ],
   "source": [
    "plt.figure(figsize=(10,6))\n",
    "df[\"player_of_match\"].value_counts().head(10).sort_values(ascending=False).plot(kind=\"bar\")\n",
    "plt.title(\"Top 'Player of the match award' winners\")\n",
    "plt.xlabel(\"Players\")\n",
    "plt.ylabel(\"No. of times awarded\")\n",
    "plt.show()"
   ]
  },
  {
   "cell_type": "markdown",
   "id": "155c2bcd",
   "metadata": {},
   "source": [
    "### Top \"Player of the match\" Award winner players for Mumbai Indians"
   ]
  },
  {
   "cell_type": "code",
   "execution_count": 40,
   "id": "aec4fb37",
   "metadata": {},
   "outputs": [
    {
     "data": {
      "text/plain": [
       "RG Sharma          12\n",
       "KA Pollard          9\n",
       "SR Tendulkar        8\n",
       "AT Rayudu           7\n",
       "Harbhajan Singh     6\n",
       "Name: player_of_match, dtype: int64"
      ]
     },
     "execution_count": 40,
     "metadata": {},
     "output_type": "execute_result"
    }
   ],
   "source": [
    "POTM=df[\"player_of_match\"].loc[(df[\"team1\"]==\"Mumbai Indians\") | (df[\"team2\"]==\"Mumbai Indians\")].value_counts().head()\n",
    "POTM"
   ]
  },
  {
   "cell_type": "markdown",
   "id": "fc97d87a",
   "metadata": {},
   "source": [
    "## Year Wise Analysis"
   ]
  },
  {
   "cell_type": "markdown",
   "id": "1fa2e057",
   "metadata": {},
   "source": [
    "#### 14. Matches Played in each year"
   ]
  },
  {
   "cell_type": "code",
   "execution_count": 41,
   "id": "f0a339d8",
   "metadata": {},
   "outputs": [
    {
     "data": {
      "text/plain": [
       "season\n",
       "2008    58\n",
       "2009    57\n",
       "2010    60\n",
       "2011    72\n",
       "2012    74\n",
       "2013    76\n",
       "2014    53\n",
       "2015    57\n",
       "2016    60\n",
       "2017    58\n",
       "Name: id, dtype: int64"
      ]
     },
     "execution_count": 41,
     "metadata": {},
     "output_type": "execute_result"
    }
   ],
   "source": [
    "df.groupby(\"season\")[\"id\"].count()"
   ]
  },
  {
   "cell_type": "markdown",
   "id": "358c304c",
   "metadata": {},
   "source": [
    "### Details of IPL Season 2013"
   ]
  },
  {
   "cell_type": "code",
   "execution_count": 42,
   "id": "d4399697",
   "metadata": {},
   "outputs": [],
   "source": [
    "year=df.groupby([\"season\"])"
   ]
  },
  {
   "cell_type": "code",
   "execution_count": 43,
   "id": "cda365c5",
   "metadata": {
    "scrolled": true
   },
   "outputs": [
    {
     "data": {
      "text/html": [
       "<div>\n",
       "<style scoped>\n",
       "    .dataframe tbody tr th:only-of-type {\n",
       "        vertical-align: middle;\n",
       "    }\n",
       "\n",
       "    .dataframe tbody tr th {\n",
       "        vertical-align: top;\n",
       "    }\n",
       "\n",
       "    .dataframe thead th {\n",
       "        text-align: right;\n",
       "    }\n",
       "</style>\n",
       "<table border=\"1\" class=\"dataframe\">\n",
       "  <thead>\n",
       "    <tr style=\"text-align: right;\">\n",
       "      <th></th>\n",
       "      <th>id</th>\n",
       "      <th>season</th>\n",
       "      <th>city</th>\n",
       "      <th>date</th>\n",
       "      <th>team1</th>\n",
       "      <th>team2</th>\n",
       "      <th>toss_winner</th>\n",
       "      <th>toss_decision</th>\n",
       "      <th>result</th>\n",
       "      <th>dl_applied</th>\n",
       "      <th>winner</th>\n",
       "      <th>win_by_runs</th>\n",
       "      <th>win_by_wickets</th>\n",
       "      <th>player_of_match</th>\n",
       "      <th>venue</th>\n",
       "      <th>umpire1</th>\n",
       "      <th>umpire2</th>\n",
       "    </tr>\n",
       "  </thead>\n",
       "  <tbody>\n",
       "    <tr>\n",
       "      <th>381</th>\n",
       "      <td>382</td>\n",
       "      <td>2013</td>\n",
       "      <td>Kolkata</td>\n",
       "      <td>2013-04-03</td>\n",
       "      <td>Delhi Daredevils</td>\n",
       "      <td>Kolkata Knight Riders</td>\n",
       "      <td>Kolkata Knight Riders</td>\n",
       "      <td>field</td>\n",
       "      <td>normal</td>\n",
       "      <td>0</td>\n",
       "      <td>Kolkata Knight Riders</td>\n",
       "      <td>0</td>\n",
       "      <td>6</td>\n",
       "      <td>SP Narine</td>\n",
       "      <td>Eden Gardens</td>\n",
       "      <td>S Ravi</td>\n",
       "      <td>SJA Taufel</td>\n",
       "    </tr>\n",
       "    <tr>\n",
       "      <th>382</th>\n",
       "      <td>383</td>\n",
       "      <td>2013</td>\n",
       "      <td>Bangalore</td>\n",
       "      <td>2013-04-04</td>\n",
       "      <td>Royal Challengers Bangalore</td>\n",
       "      <td>Mumbai Indians</td>\n",
       "      <td>Mumbai Indians</td>\n",
       "      <td>field</td>\n",
       "      <td>normal</td>\n",
       "      <td>0</td>\n",
       "      <td>Royal Challengers Bangalore</td>\n",
       "      <td>2</td>\n",
       "      <td>0</td>\n",
       "      <td>CH Gayle</td>\n",
       "      <td>M Chinnaswamy Stadium</td>\n",
       "      <td>VA Kulkarni</td>\n",
       "      <td>C Shamshuddin</td>\n",
       "    </tr>\n",
       "    <tr>\n",
       "      <th>383</th>\n",
       "      <td>384</td>\n",
       "      <td>2013</td>\n",
       "      <td>Hyderabad</td>\n",
       "      <td>2013-04-05</td>\n",
       "      <td>Sunrisers Hyderabad</td>\n",
       "      <td>Pune Warriors</td>\n",
       "      <td>Pune Warriors</td>\n",
       "      <td>field</td>\n",
       "      <td>normal</td>\n",
       "      <td>0</td>\n",
       "      <td>Sunrisers Hyderabad</td>\n",
       "      <td>22</td>\n",
       "      <td>0</td>\n",
       "      <td>A Mishra</td>\n",
       "      <td>Rajiv Gandhi International Stadium, Uppal</td>\n",
       "      <td>S Ravi</td>\n",
       "      <td>SJA Taufel</td>\n",
       "    </tr>\n",
       "    <tr>\n",
       "      <th>384</th>\n",
       "      <td>385</td>\n",
       "      <td>2013</td>\n",
       "      <td>Delhi</td>\n",
       "      <td>2013-04-06</td>\n",
       "      <td>Rajasthan Royals</td>\n",
       "      <td>Delhi Daredevils</td>\n",
       "      <td>Rajasthan Royals</td>\n",
       "      <td>bat</td>\n",
       "      <td>normal</td>\n",
       "      <td>0</td>\n",
       "      <td>Rajasthan Royals</td>\n",
       "      <td>5</td>\n",
       "      <td>0</td>\n",
       "      <td>R Dravid</td>\n",
       "      <td>Feroz Shah Kotla</td>\n",
       "      <td>S Das</td>\n",
       "      <td>C Shamshuddin</td>\n",
       "    </tr>\n",
       "    <tr>\n",
       "      <th>385</th>\n",
       "      <td>386</td>\n",
       "      <td>2013</td>\n",
       "      <td>Chennai</td>\n",
       "      <td>2013-04-06</td>\n",
       "      <td>Mumbai Indians</td>\n",
       "      <td>Chennai Super Kings</td>\n",
       "      <td>Mumbai Indians</td>\n",
       "      <td>bat</td>\n",
       "      <td>normal</td>\n",
       "      <td>0</td>\n",
       "      <td>Mumbai Indians</td>\n",
       "      <td>9</td>\n",
       "      <td>0</td>\n",
       "      <td>KA Pollard</td>\n",
       "      <td>MA Chidambaram Stadium, Chepauk</td>\n",
       "      <td>M Erasmus</td>\n",
       "      <td>VA Kulkarni</td>\n",
       "    </tr>\n",
       "    <tr>\n",
       "      <th>386</th>\n",
       "      <td>387</td>\n",
       "      <td>2013</td>\n",
       "      <td>Pune</td>\n",
       "      <td>2013-04-07</td>\n",
       "      <td>Pune Warriors</td>\n",
       "      <td>Kings XI Punjab</td>\n",
       "      <td>Pune Warriors</td>\n",
       "      <td>bat</td>\n",
       "      <td>normal</td>\n",
       "      <td>0</td>\n",
       "      <td>Kings XI Punjab</td>\n",
       "      <td>0</td>\n",
       "      <td>8</td>\n",
       "      <td>M Vohra</td>\n",
       "      <td>Subrata Roy Sahara Stadium</td>\n",
       "      <td>S Asnani</td>\n",
       "      <td>SJA Taufel</td>\n",
       "    </tr>\n",
       "    <tr>\n",
       "      <th>387</th>\n",
       "      <td>388</td>\n",
       "      <td>2013</td>\n",
       "      <td>Hyderabad</td>\n",
       "      <td>2013-04-07</td>\n",
       "      <td>Royal Challengers Bangalore</td>\n",
       "      <td>Sunrisers Hyderabad</td>\n",
       "      <td>Royal Challengers Bangalore</td>\n",
       "      <td>bat</td>\n",
       "      <td>tie</td>\n",
       "      <td>0</td>\n",
       "      <td>Sunrisers Hyderabad</td>\n",
       "      <td>0</td>\n",
       "      <td>0</td>\n",
       "      <td>GH Vihari</td>\n",
       "      <td>Rajiv Gandhi International Stadium, Uppal</td>\n",
       "      <td>AK Chaudhary</td>\n",
       "      <td>S Ravi</td>\n",
       "    </tr>\n",
       "    <tr>\n",
       "      <th>388</th>\n",
       "      <td>389</td>\n",
       "      <td>2013</td>\n",
       "      <td>Jaipur</td>\n",
       "      <td>2013-04-08</td>\n",
       "      <td>Rajasthan Royals</td>\n",
       "      <td>Kolkata Knight Riders</td>\n",
       "      <td>Kolkata Knight Riders</td>\n",
       "      <td>field</td>\n",
       "      <td>normal</td>\n",
       "      <td>0</td>\n",
       "      <td>Rajasthan Royals</td>\n",
       "      <td>19</td>\n",
       "      <td>0</td>\n",
       "      <td>SK Trivedi</td>\n",
       "      <td>Sawai Mansingh Stadium</td>\n",
       "      <td>Aleem Dar</td>\n",
       "      <td>S Das</td>\n",
       "    </tr>\n",
       "    <tr>\n",
       "      <th>389</th>\n",
       "      <td>390</td>\n",
       "      <td>2013</td>\n",
       "      <td>Mumbai</td>\n",
       "      <td>2013-04-09</td>\n",
       "      <td>Mumbai Indians</td>\n",
       "      <td>Delhi Daredevils</td>\n",
       "      <td>Mumbai Indians</td>\n",
       "      <td>bat</td>\n",
       "      <td>normal</td>\n",
       "      <td>0</td>\n",
       "      <td>Mumbai Indians</td>\n",
       "      <td>44</td>\n",
       "      <td>0</td>\n",
       "      <td>KD Karthik</td>\n",
       "      <td>Wankhede Stadium</td>\n",
       "      <td>M Erasmus</td>\n",
       "      <td>VA Kulkarni</td>\n",
       "    </tr>\n",
       "    <tr>\n",
       "      <th>390</th>\n",
       "      <td>391</td>\n",
       "      <td>2013</td>\n",
       "      <td>Chandigarh</td>\n",
       "      <td>2013-04-10</td>\n",
       "      <td>Kings XI Punjab</td>\n",
       "      <td>Chennai Super Kings</td>\n",
       "      <td>Chennai Super Kings</td>\n",
       "      <td>field</td>\n",
       "      <td>normal</td>\n",
       "      <td>0</td>\n",
       "      <td>Chennai Super Kings</td>\n",
       "      <td>0</td>\n",
       "      <td>10</td>\n",
       "      <td>MEK Hussey</td>\n",
       "      <td>Punjab Cricket Association Stadium, Mohali</td>\n",
       "      <td>Aleem Dar</td>\n",
       "      <td>C Shamshuddin</td>\n",
       "    </tr>\n",
       "  </tbody>\n",
       "</table>\n",
       "</div>"
      ],
      "text/plain": [
       "      id  season        city        date                        team1  \\\n",
       "381  382    2013     Kolkata  2013-04-03             Delhi Daredevils   \n",
       "382  383    2013   Bangalore  2013-04-04  Royal Challengers Bangalore   \n",
       "383  384    2013   Hyderabad  2013-04-05          Sunrisers Hyderabad   \n",
       "384  385    2013       Delhi  2013-04-06             Rajasthan Royals   \n",
       "385  386    2013     Chennai  2013-04-06               Mumbai Indians   \n",
       "386  387    2013        Pune  2013-04-07                Pune Warriors   \n",
       "387  388    2013   Hyderabad  2013-04-07  Royal Challengers Bangalore   \n",
       "388  389    2013      Jaipur  2013-04-08             Rajasthan Royals   \n",
       "389  390    2013      Mumbai  2013-04-09               Mumbai Indians   \n",
       "390  391    2013  Chandigarh  2013-04-10              Kings XI Punjab   \n",
       "\n",
       "                     team2                  toss_winner toss_decision  result  \\\n",
       "381  Kolkata Knight Riders        Kolkata Knight Riders         field  normal   \n",
       "382         Mumbai Indians               Mumbai Indians         field  normal   \n",
       "383          Pune Warriors                Pune Warriors         field  normal   \n",
       "384       Delhi Daredevils             Rajasthan Royals           bat  normal   \n",
       "385    Chennai Super Kings               Mumbai Indians           bat  normal   \n",
       "386        Kings XI Punjab                Pune Warriors           bat  normal   \n",
       "387    Sunrisers Hyderabad  Royal Challengers Bangalore           bat     tie   \n",
       "388  Kolkata Knight Riders        Kolkata Knight Riders         field  normal   \n",
       "389       Delhi Daredevils               Mumbai Indians           bat  normal   \n",
       "390    Chennai Super Kings          Chennai Super Kings         field  normal   \n",
       "\n",
       "     dl_applied                       winner  win_by_runs  win_by_wickets  \\\n",
       "381           0        Kolkata Knight Riders            0               6   \n",
       "382           0  Royal Challengers Bangalore            2               0   \n",
       "383           0          Sunrisers Hyderabad           22               0   \n",
       "384           0             Rajasthan Royals            5               0   \n",
       "385           0               Mumbai Indians            9               0   \n",
       "386           0              Kings XI Punjab            0               8   \n",
       "387           0          Sunrisers Hyderabad            0               0   \n",
       "388           0             Rajasthan Royals           19               0   \n",
       "389           0               Mumbai Indians           44               0   \n",
       "390           0          Chennai Super Kings            0              10   \n",
       "\n",
       "    player_of_match                                       venue       umpire1  \\\n",
       "381       SP Narine                                Eden Gardens        S Ravi   \n",
       "382        CH Gayle                       M Chinnaswamy Stadium   VA Kulkarni   \n",
       "383        A Mishra   Rajiv Gandhi International Stadium, Uppal        S Ravi   \n",
       "384        R Dravid                            Feroz Shah Kotla         S Das   \n",
       "385      KA Pollard             MA Chidambaram Stadium, Chepauk     M Erasmus   \n",
       "386         M Vohra                  Subrata Roy Sahara Stadium      S Asnani   \n",
       "387       GH Vihari   Rajiv Gandhi International Stadium, Uppal  AK Chaudhary   \n",
       "388      SK Trivedi                      Sawai Mansingh Stadium     Aleem Dar   \n",
       "389      KD Karthik                            Wankhede Stadium     M Erasmus   \n",
       "390      MEK Hussey  Punjab Cricket Association Stadium, Mohali     Aleem Dar   \n",
       "\n",
       "           umpire2  \n",
       "381     SJA Taufel  \n",
       "382  C Shamshuddin  \n",
       "383     SJA Taufel  \n",
       "384  C Shamshuddin  \n",
       "385    VA Kulkarni  \n",
       "386     SJA Taufel  \n",
       "387         S Ravi  \n",
       "388          S Das  \n",
       "389    VA Kulkarni  \n",
       "390  C Shamshuddin  "
      ]
     },
     "execution_count": 43,
     "metadata": {},
     "output_type": "execute_result"
    }
   ],
   "source": [
    "year.get_group(2013).head(10)"
   ]
  },
  {
   "cell_type": "markdown",
   "id": "e2379bc4",
   "metadata": {},
   "source": [
    "#### 15. Total Matches played in IPL Season 2013"
   ]
  },
  {
   "cell_type": "code",
   "execution_count": 54,
   "id": "4e85d913",
   "metadata": {},
   "outputs": [
    {
     "data": {
      "text/plain": [
       "76"
      ]
     },
     "execution_count": 54,
     "metadata": {},
     "output_type": "execute_result"
    }
   ],
   "source": [
    "year.get_group(2013).shape[0]"
   ]
  },
  {
   "cell_type": "markdown",
   "id": "2df716da",
   "metadata": {},
   "source": [
    "#### Most frequent toss winner of IPL 2013"
   ]
  },
  {
   "cell_type": "code",
   "execution_count": 45,
   "id": "45675948",
   "metadata": {},
   "outputs": [
    {
     "data": {
      "text/plain": [
       "Kolkata Knight Riders    12\n",
       "Name: toss_winner, dtype: int64"
      ]
     },
     "execution_count": 45,
     "metadata": {},
     "output_type": "execute_result"
    }
   ],
   "source": [
    "year.get_group(2013)[\"toss_winner\"].value_counts().head(1)"
   ]
  },
  {
   "cell_type": "markdown",
   "id": "52a05acc",
   "metadata": {},
   "source": [
    "#### Most frequent winner of IPL 2013"
   ]
  },
  {
   "cell_type": "code",
   "execution_count": 55,
   "id": "3034c531",
   "metadata": {},
   "outputs": [
    {
     "data": {
      "text/plain": [
       "'Mumbai Indians'"
      ]
     },
     "execution_count": 55,
     "metadata": {},
     "output_type": "execute_result"
    }
   ],
   "source": [
    "year.get_group(2013)[\"winner\"].value_counts().idxmax()"
   ]
  },
  {
   "cell_type": "markdown",
   "id": "4ad00b21",
   "metadata": {},
   "source": [
    "#### 16. Top 4 Teams Qualified for the IPL Season 2013 Playoffs"
   ]
  },
  {
   "cell_type": "code",
   "execution_count": 46,
   "id": "b03dcc6e",
   "metadata": {},
   "outputs": [
    {
     "data": {
      "text/plain": [
       "Mumbai Indians         13\n",
       "Chennai Super Kings    12\n",
       "Rajasthan Royals       11\n",
       "Sunrisers Hyderabad    10\n",
       "Name: winner, dtype: int64"
      ]
     },
     "execution_count": 46,
     "metadata": {},
     "output_type": "execute_result"
    }
   ],
   "source": [
    "year.get_group(2013)[\"winner\"].value_counts().head(4)"
   ]
  },
  {
   "cell_type": "markdown",
   "id": "78a8908a",
   "metadata": {},
   "source": [
    "#### 17. Teams ended up at the bottom of points table for the IPL Season 2013"
   ]
  },
  {
   "cell_type": "code",
   "execution_count": 47,
   "id": "def375b4",
   "metadata": {},
   "outputs": [
    {
     "data": {
      "text/plain": [
       "Delhi Daredevils         3\n",
       "Pune Warriors            4\n",
       "Kolkata Knight Riders    6\n",
       "Kings XI Punjab          8\n",
       "Name: winner, dtype: int64"
      ]
     },
     "execution_count": 47,
     "metadata": {},
     "output_type": "execute_result"
    }
   ],
   "source": [
    "year.get_group(2013)[\"winner\"].value_counts().sort_values().head(4)"
   ]
  },
  {
   "cell_type": "code",
   "execution_count": 63,
   "id": "7c308419",
   "metadata": {},
   "outputs": [
    {
     "data": {
      "image/png": "[encoded data removed]",
      "text/plain": [
       "<Figure size 432x432 with 1 Axes>"
      ]
     },
     "metadata": {},
     "output_type": "display_data"
    }
   ],
   "source": [
    "py=year.get_group(2013)[\"winner\"].value_counts()\n",
    "plt.figure(figsize=(6,6))\n",
    "year.get_group(2013)[\"winner\"].value_counts().plot.pie(autopct=\"%1.2f%%\",explode=[0.2,0,0,0,0,0,0,0,0],shadow=True)\n",
    "plt.title(\"Team Winning % for the IPL Season 2013\")\n",
    "plt.show()"
   ]
  },
  {
   "cell_type": "markdown",
   "id": "cf11ab65",
   "metadata": {},
   "source": [
    "#### 18. The Match won by big margin in IPL Season 2013"
   ]
  },
  {
   "cell_type": "code",
   "execution_count": 49,
   "id": "e1f69cc4",
   "metadata": {},
   "outputs": [
    {
     "data": {
      "text/plain": [
       "410    130\n",
       "Name: win_by_runs, dtype: int64"
      ]
     },
     "execution_count": 49,
     "metadata": {},
     "output_type": "execute_result"
    }
   ],
   "source": [
    "year.get_group(2013)[\"win_by_runs\"].sort_values(ascending=False).head(1)"
   ]
  },
  {
   "cell_type": "markdown",
   "id": "057d2a53",
   "metadata": {},
   "source": [
    "#### 19. The Match by the teams without fall of a wicket in IPL Season 2013"
   ]
  },
  {
   "cell_type": "code",
   "execution_count": 50,
   "id": "d94e0c13",
   "metadata": {},
   "outputs": [
    {
     "data": {
      "text/plain": [
       "390    Chennai Super Kings\n",
       "Name: winner, dtype: object"
      ]
     },
     "execution_count": 50,
     "metadata": {},
     "output_type": "execute_result"
    }
   ],
   "source": [
    "year.get_group(2013)[df[\"win_by_wickets\"]==10][\"winner\"]"
   ]
  },
  {
   "cell_type": "markdown",
   "id": "fdcfe586",
   "metadata": {},
   "source": [
    "#### 20. The city hosted most number of matches in 2013 \n"
   ]
  },
  {
   "cell_type": "code",
   "execution_count": 51,
   "id": "e36a9be2",
   "metadata": {},
   "outputs": [
    {
     "data": {
      "text/plain": [
       "Kolkata       8\n",
       "Bangalore     8\n",
       "Hyderabad     8\n",
       "Delhi         8\n",
       "Chennai       8\n",
       "Pune          8\n",
       "Jaipur        8\n",
       "Mumbai        8\n",
       "Chandigarh    6\n",
       "Dharamsala    2\n",
       "Raipur        2\n",
       "Ranchi        2\n",
       "Name: city, dtype: int64"
      ]
     },
     "execution_count": 51,
     "metadata": {},
     "output_type": "execute_result"
    }
   ],
   "source": [
    "year.get_group(2013)[\"city\"].value_counts()"
   ]
  },
  {
   "cell_type": "markdown",
   "id": "ba6783a0",
   "metadata": {},
   "source": [
    "#### 21. Most Matches won by team."
   ]
  },
  {
   "cell_type": "code",
   "execution_count": 52,
   "id": "1ac7f9df",
   "metadata": {},
   "outputs": [
    {
     "data": {
      "text/plain": [
       "Mumbai Indians                 92\n",
       "Kolkata Knight Riders          77\n",
       "Chennai Super Kings            77\n",
       "Royal Challengers Bangalore    71\n",
       "Kings XI Punjab                69\n",
       "Rajasthan Royals               63\n",
       "Delhi Daredevils               61\n",
       "Sunrisers Hyderabad            40\n",
       "Deccan Chargers                29\n",
       "Gujarat Lions                  13\n",
       "Pune Warriors                  12\n",
       "Rising Pune Supergiant         10\n",
       "Kochi Tuskers Kerala            6\n",
       "Rising Pune Supergiants         5\n",
       "Name: winner, dtype: int64"
      ]
     },
     "execution_count": 52,
     "metadata": {},
     "output_type": "execute_result"
    }
   ],
   "source": [
    "df[\"winner\"].value_counts()"
   ]
  },
  {
   "cell_type": "markdown",
   "id": "49c1f4af",
   "metadata": {},
   "source": [
    "# Results :"
   ]
  },
  {
   "cell_type": "markdown",
   "id": "06fa9f85",
   "metadata": {},
   "source": [
    "- This **EDA** is mostly **Mumbai City** and it's team **Mumbai Indians** Centric as it has been most successful and one of the famous teams amoung IPL Teams\n",
    "\n",
    "- 1. In all seasons of IPL, **Mumbai City** has hosted the *most matches* with the fact that it has altogether 3 venues,*Wankhede Stadium* being the most frequent match holding venue with 57 matches, then *Dr DY Patil Sports Academy* & at last *Brabourne Stadium*.\n",
    "- 2. But if we consider a particular venue, \"**M Chinnaswamy stadium**\" of city \"Banglore\" has conducted most matches. \n",
    "- 3. For **60%** of the times matches played at venues in **Mumbai**, teams elected to **FIELD** *first*.\n",
    "- 4. Also **Toss probability** & the *decision* to **field** on toss win has also gone *in favour* of the team plenty of times.\n",
    "- 5. If we consider this above conditions, again **Mumbai Indians** have won more than *half of all the matches* that took place in **mumbai**, which means they have firm *grip on their home ground & it's playing conditions*.\n",
    "- 6. If we look at the games of **Mumbai Indians**, in rivalry matches of \"*Mumbai Indians\" vs. \"Chennai Super Kings*\" team \"**Mumbai Indians**\" have won more times.\n",
    "- 7. **Chris Gayle** or the \"*The Universe Boss*\", has won the \"**Player of the match**\" most times, and Hitman \"**Rohit Sharma**\" has won it most times for **Mumbai Indians**.\n",
    "- 8. In **2013**, there were most matches of IPL were played, where **Mumbai Indians won** the season, **Chennai Super Kings** won a match without a loss of wicket, which was the **runner up** team for the season. \n",
    "- 9. Untill now **Mumbai Indians** have won the most matches."
   ]
  },
  {
   "cell_type": "markdown",
   "id": "94515af8",
   "metadata": {},
   "source": [
    "## Conclusion :"
   ]
  },
  {
   "cell_type": "markdown",
   "id": "c29b36b9",
   "metadata": {},
   "source": [
    "- So if you are a fan of **Mumbai Indians Team**, there is more probability of you **celebrating the victory** of your favourite team, if the match is played at **\"Wankhede Stadium\"**, toss won by **Mumbai Indians** & they elect to **\"Field\" First**.\n",
    "\n",
    "\n",
    "- Also in Season 2013 with this terms, Team **\"Mumbai Indians\"** won the season.\n",
    "\n",
    "\n",
    "- So we can say that team **\"Mumbai Indians\"** has been the most **Successful team** in the IPL Cricket history.\n",
    "\n",
    "\n",
    "- If they follow this agenda, then they can end up in top 4 teams for IPL Playoffs every year."
   ]
  }
 ],
 "metadata": {
  "kernelspec": {
   "display_name": "Python 3 (ipykernel)",
   "language": "python",
   "name": "python3"
  },
  "language_info": {
   "codemirror_mode": {
    "name": "ipython",
    "version": 3
   },
   "file_extension": ".py",
   "mimetype": "text/x-python",
   "name": "python",
   "nbconvert_exporter": "python",
   "pygments_lexer": "ipython3",
   "version": "3.9.7"
  }
 },
 "nbformat": 4,
 "nbformat_minor": 5
}
